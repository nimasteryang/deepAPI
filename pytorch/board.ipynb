{
 "cells": [
  {
   "cell_type": "code",
   "execution_count": 1,
   "metadata": {},
   "outputs": [
    {
     "name": "stdout",
     "output_type": "stream",
     "text": [
      "README.md        \u001b[34mdata\u001b[m\u001b[m             \u001b[34mmodels\u001b[m\u001b[m           sample.py\r\n",
      "\u001b[34m__pycache__\u001b[m\u001b[m      data_loader.py   modules.py       test.ipynb\r\n",
      "board.ipynb      helper.py        \u001b[34moutput\u001b[m\u001b[m           train.ipynb\r\n",
      "configs.py       metrics.py       requirements.txt train.py\r\n"
     ]
    }
   ],
   "source": [
    "!ls"
   ]
  },
  {
   "cell_type": "code",
   "execution_count": 3,
   "metadata": {},
   "outputs": [
    {
     "name": "stdout",
     "output_type": "stream",
     "text": [
      "Requirement already satisfied: tensorboardX in /Users/xuyang/opt/anaconda3/lib/python3.8/site-packages (2.1)\r\n",
      "Requirement already satisfied: six in /Users/xuyang/opt/anaconda3/lib/python3.8/site-packages (from tensorboardX) (1.15.0)\r\n",
      "Requirement already satisfied: protobuf>=3.8.0 in /Users/xuyang/opt/anaconda3/lib/python3.8/site-packages (from tensorboardX) (3.14.0)\r\n",
      "Requirement already satisfied: numpy in /Users/xuyang/opt/anaconda3/lib/python3.8/site-packages (from tensorboardX) (1.18.5)\r\n"
     ]
    }
   ],
   "source": [
    "!pip install tensorboardX"
   ]
  },
  {
   "cell_type": "code",
   "execution_count": 10,
   "metadata": {},
   "outputs": [
    {
     "name": "stdout",
     "output_type": "stream",
     "text": [
      "zsh:1: command not found: tensorboard\r\n"
     ]
    }
   ],
   "source": [
    "!tensorboard --logdir='/output/RNNEncDec/basic/202012011224/logs/'"
   ]
  },
  {
   "cell_type": "code",
   "execution_count": null,
   "metadata": {},
   "outputs": [],
   "source": []
  }
 ],
 "metadata": {
  "kernelspec": {
   "display_name": "Python 3",
   "language": "python",
   "name": "python3"
  },
  "language_info": {
   "codemirror_mode": {
    "name": "ipython",
    "version": 3
   },
   "file_extension": ".py",
   "mimetype": "text/x-python",
   "name": "python",
   "nbconvert_exporter": "python",
   "pygments_lexer": "ipython3",
   "version": "3.7.9"
  }
 },
 "nbformat": 4,
 "nbformat_minor": 4
}
